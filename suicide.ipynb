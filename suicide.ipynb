{
  "cells": [
    {
      "metadata": {
        "_kg_hide-input": false,
        "_kg_hide-output": false,
        "_uuid": "8e0ca2aad1754353e161a7853c169794bf1256a6"
      },
      "cell_type": "markdown",
      "source": "# Importing Libraries"
    },
    {
      "metadata": {
        "_uuid": "8f2839f25d086af736a60e9eeb907d3b93b6e0e5",
        "collapsed": true,
        "_kg_hide-input": true,
        "_cell_guid": "b1076dfc-b9ad-4769-8c92-a6c4dae69d19",
        "trusted": true,
        "_kg_hide-output": false
      },
      "cell_type": "code",
      "source": "import numpy as np # linear algebra\nimport pandas as pd # data processing, CSV file I/O (e.g. pd.read_csv)\nimport matplotlib.pyplot as plt\n%matplotlib inline",
      "execution_count": null,
      "outputs": []
    },
    {
      "metadata": {
        "_uuid": "38ed3c2e00b946540799d84637db80c12f002457"
      },
      "cell_type": "markdown",
      "source": "# Loading Data"
    },
    {
      "metadata": {
        "trusted": true,
        "_uuid": "fb7bc4cb8890a46ce8a4aee8e2bcc7ddd7bf5507",
        "collapsed": true
      },
      "cell_type": "code",
      "source": "suicide=pd.read_csv('../input/suicides-in-india/Suicides in India 2001-2012.csv')\npopulation=pd.read_csv('../input/indian-population-census-2011/Table_2_PR_Cities_1Lakh_and_Above.csv',header=3,skipfooter=2)",
      "execution_count": null,
      "outputs": []
    },
    {
      "metadata": {
        "trusted": true,
        "_uuid": "7f7950bdd451d76dd1bfe8cd874e8b1c8c6888c1",
        "collapsed": true
      },
      "cell_type": "code",
      "source": "population.head()",
      "execution_count": null,
      "outputs": []
    },
    {
      "metadata": {
        "trusted": true,
        "_uuid": "85eaf25c1718a37599ca63ec39b48b69a84dc05c",
        "collapsed": true
      },
      "cell_type": "code",
      "source": "population.info()",
      "execution_count": null,
      "outputs": []
    },
    {
      "metadata": {
        "trusted": true,
        "_uuid": "b66fa48031b06383e3d67cf30a299afe449165b2",
        "collapsed": true
      },
      "cell_type": "code",
      "source": "suicide.head()",
      "execution_count": null,
      "outputs": []
    },
    {
      "metadata": {
        "trusted": true,
        "_uuid": "66960978825cd9fad796af602c6bcb0e8ca24b0b",
        "collapsed": true
      },
      "cell_type": "code",
      "source": "suicide.info()",
      "execution_count": null,
      "outputs": []
    },
    {
      "metadata": {
        "_uuid": "3d02ac5f46a52396f48236c5408e678a17e64d99"
      },
      "cell_type": "markdown",
      "source": "# EDA"
    },
    {
      "metadata": {
        "_uuid": "77fa5dbf7094483949a0412dd4f25a207dd7155f"
      },
      "cell_type": "markdown",
      "source": "Cleaning Population Data"
    },
    {
      "metadata": {
        "trusted": true,
        "_uuid": "627b023cd2e926109b9d66d6943d67525614a5c3",
        "collapsed": true
      },
      "cell_type": "code",
      "source": "population['State']=population[population.columns[1]]\npopulation['Males']=population[population.columns[6]]\npopulation['Females']=population[population.columns[7]]\n\npopulation['Males']=population['Males'].str.replace(',', '')\npopulation['Males']=population['Males'].astype(int)\npopulation['Females']=population['Females'].str.replace(',', '')\npopulation['Females']=population['Females'].astype(int)\n\nmale_population=population.groupby('State')['Males'].agg({'total_males':np.sum})\nmale_population.reset_index(inplace=True)\nfemale_population=population.groupby('State')['Females'].agg({'total_females':np.sum})\nfemale_population.reset_index(inplace=True)\npopulation=pd.merge(male_population,female_population,how='inner',on='State')",
      "execution_count": null,
      "outputs": []
    },
    {
      "metadata": {
        "_uuid": "5e85d12599c909f72775e8f49c7b6b702d2ac71e"
      },
      "cell_type": "markdown",
      "source": "Cleaning Suicide Data"
    },
    {
      "metadata": {
        "trusted": true,
        "_uuid": "71ff11d5fc68588c899c38374ee573e433ad1fa6",
        "collapsed": true
      },
      "cell_type": "code",
      "source": "suicide=suicide.where(suicide['Total']!=0).dropna()\nsuicide=suicide.where(suicide['Type']=='Failure in Examination').dropna()\nsuicide=suicide[(suicide['Age_group']=='15-29')]\nsuicide=suicide[suicide['Year']==2011]\nmale_suicide=suicide[suicide['Gender']=='Male']\nfemale_suicide=suicide[suicide['Gender']=='Female']\nmale_suicide=male_suicide[['State','Total']]\nfemale_suicide=female_suicide[['State','Total']]\nmale_suicide=male_suicide.rename(columns={'Total':'Males'})\nfemale_suicide=female_suicide.rename(columns={'Total':'Females'})\nsuicide=pd.merge(male_suicide,female_suicide,how='inner',on='State')\n\nsuicide.set_index(\"State\",inplace=True)\nsuicide.rename(index={'A & N Islands':'Andaman & Nicobar Islands','Delhi (Ut)':'Delhi'},inplace=True)\nsuicide=suicide.reset_index()\nsuicide['State']=suicide['State'].apply(lambda x: x.upper())",
      "execution_count": null,
      "outputs": []
    },
    {
      "metadata": {
        "_uuid": "162223dd534557dd442ace87d3e9c675de3af4f2"
      },
      "cell_type": "markdown",
      "source": "After Cleaning Data"
    },
    {
      "metadata": {
        "trusted": true,
        "_uuid": "838634b90f3732cf69f52e3b148c8a3d6ab298fd",
        "collapsed": true
      },
      "cell_type": "code",
      "source": "population.head()",
      "execution_count": null,
      "outputs": []
    },
    {
      "metadata": {
        "trusted": true,
        "_uuid": "458c8d6923f69c61283406200e098964a0808fef",
        "collapsed": true
      },
      "cell_type": "code",
      "source": "suicide.head()",
      "execution_count": null,
      "outputs": []
    },
    {
      "metadata": {
        "_uuid": "973696796a797f074a32481cc35ac66e5a904402"
      },
      "cell_type": "markdown",
      "source": "Merging Suicide and Population Data"
    },
    {
      "metadata": {
        "trusted": true,
        "_uuid": "a9e07dda4e35845e981808046f5e5b6d76c18b02",
        "collapsed": true
      },
      "cell_type": "code",
      "source": "df=pd.merge(suicide,population,how='inner',on='State')\ndf['% male']=df['Males']/df['total_males']\ndf['% female']=df['Females']/df['total_females']",
      "execution_count": null,
      "outputs": []
    },
    {
      "metadata": {
        "_uuid": "fbd177cd937ef86e930debf5b73154921bf86a87"
      },
      "cell_type": "markdown",
      "source": "# Visualization"
    },
    {
      "metadata": {
        "_uuid": "d629ff2d2480ee46fbb7e2d37f6b5fab8052498a",
        "_cell_guid": "79c7e3d0-c299-4dcb-8224-4455121ee9b0",
        "trusted": true,
        "collapsed": true
      },
      "cell_type": "code",
      "source": "plt.figure(figsize=(20,10))\nplt.plot(df['% male'],'-o',label='% male suicides in 2011')\nplt.plot(df['% female'],'-',label='% female suicides in 2011')\nplt.ylabel('% suicides')\nplt.xlabel('States')\nplt.title('% suicides of students(age group 15-29 year) in different states of India in year 2011 due to Failure in examination.',fontsize=10)\nplt.legend()\nob=plt.gca()\ndf[\"State\"].iloc[0]=\"A&N ISLAND\"\nlt3=list(df[\"State\"].values)\nob.tick_params(bottom=False)\nplt.xticks(np.arange(0,22),lt3,rotation=90,fontsize=8)\nplt.show()",
      "execution_count": null,
      "outputs": []
    },
    {
      "metadata": {
        "_uuid": "e36f380bde20db075d2b38631d77233b06db11fa",
        "collapsed": true,
        "_cell_guid": "4e4e0144-604c-4890-bafd-a484c6ac7913",
        "trusted": false
      },
      "cell_type": "code",
      "source": "",
      "execution_count": null,
      "outputs": []
    }
  ],
  "metadata": {
    "language_info": {
      "name": "python",
      "version": "3.6.6",
      "mimetype": "text/x-python",
      "codemirror_mode": {
        "name": "ipython",
        "version": 3
      },
      "pygments_lexer": "ipython3",
      "nbconvert_exporter": "python",
      "file_extension": ".py"
    },
    "kernelspec": {
      "display_name": "Python 3",
      "language": "python",
      "name": "python3"
    }
  },
  "nbformat": 4,
  "nbformat_minor": 1
}